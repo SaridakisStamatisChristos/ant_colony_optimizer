{
 "cells": [
  {
   "cell_type": "markdown",
   "metadata": {},
   "source": [
    "# Factor diagnostics walkthrough\n",
    "\n",
    "Visualise the factor attribution outputs saved by a tracked run."
   ]
  },
  {
   "cell_type": "code",
   "execution_count": null,
   "metadata": {},
   "outputs": [],
   "source": [
    "import json\n",
    "from pathlib import Path\n",
    "\n",
    "manifest = Path('quickstart_artifacts') / 'run_config.json'\n",
    "if manifest.exists():\n",
    "    payload = json.loads(manifest.read_text())\n",
    "    print(f\"Run ID: {payload.get('run_id', '<unknown>')}\")\n",
    "else:\n",
    "    print('Generate quickstart artifacts to inspect diagnostics metadata.')"
   ]
  }
 ],
 "metadata": {
  "kernelspec": {
   "display_name": "Python 3",
   "language": "python",
   "name": "python3"
  },
  "language_info": {
   "name": "python",
   "version": "3.11"
  }
 },
 "nbformat": 4,
 "nbformat_minor": 5
}
