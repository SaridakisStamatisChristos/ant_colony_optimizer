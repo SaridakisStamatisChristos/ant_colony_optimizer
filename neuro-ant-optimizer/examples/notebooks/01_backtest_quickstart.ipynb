{
 "cells": [
  {
   "cell_type": "markdown",
   "metadata": {},
   "source": [
    "# Backtest quickstart\n",
    "\n",
    "Use the packaged CLI to replay the sample quickstart run."
   ]
  },
  {
   "cell_type": "code",
   "execution_count": null,
   "metadata": {},
   "outputs": [],
   "source": [
    "from pathlib import Path\n",
    "import pandas as pd\n",
    "\n",
    "run_dir = Path('quickstart_artifacts')\n",
    "metrics_path = run_dir / 'metrics.csv'\n",
    "if metrics_path.exists():\n",
    "    metrics = pd.read_csv(metrics_path)\n",
    "    display(metrics.head())\n",
    "else:\n",
    "    print('Run the make quickstart target first to generate artifacts.')"
   ]
  }
 ],
 "metadata": {
  "kernelspec": {
   "display_name": "Python 3",
   "language": "python",
   "name": "python3"
  },
  "language_info": {
   "name": "python",
   "version": "3.11"
  }
 },
 "nbformat": 4,
 "nbformat_minor": 5
}
